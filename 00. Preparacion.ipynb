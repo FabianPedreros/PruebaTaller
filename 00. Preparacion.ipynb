{
 "cells": [
  {
   "cell_type": "code",
   "execution_count": 1,
   "metadata": {},
   "outputs": [
    {
     "name": "stdout",
     "output_type": "stream",
     "text": [
      "Requirement already satisfied: ultralytics in /home/codespace/.local/lib/python3.10/site-packages (from -r requirements.txt (line 1)) (8.0.208)\n",
      "Requirement already satisfied: roboflow in /usr/local/python/3.10.8/lib/python3.10/site-packages (from -r requirements.txt (line 2)) (1.1.9)\n",
      "Requirement already satisfied: matplotlib>=3.3.0 in /home/codespace/.local/lib/python3.10/site-packages (from ultralytics->-r requirements.txt (line 1)) (3.8.0)\n",
      "Requirement already satisfied: numpy>=1.22.2 in /home/codespace/.local/lib/python3.10/site-packages (from ultralytics->-r requirements.txt (line 1)) (1.26.1)\n",
      "Requirement already satisfied: opencv-python>=4.6.0 in /home/codespace/.local/lib/python3.10/site-packages (from ultralytics->-r requirements.txt (line 1)) (4.8.1.78)\n",
      "Requirement already satisfied: pillow>=7.1.2 in /home/codespace/.local/lib/python3.10/site-packages (from ultralytics->-r requirements.txt (line 1)) (10.1.0)\n",
      "Requirement already satisfied: pyyaml>=5.3.1 in /home/codespace/.local/lib/python3.10/site-packages (from ultralytics->-r requirements.txt (line 1)) (6.0.1)\n",
      "Requirement already satisfied: requests>=2.23.0 in /home/codespace/.local/lib/python3.10/site-packages (from ultralytics->-r requirements.txt (line 1)) (2.31.0)\n",
      "Requirement already satisfied: scipy>=1.4.1 in /home/codespace/.local/lib/python3.10/site-packages (from ultralytics->-r requirements.txt (line 1)) (1.11.3)\n",
      "Requirement already satisfied: torch>=1.8.0 in /home/codespace/.local/lib/python3.10/site-packages (from ultralytics->-r requirements.txt (line 1)) (2.1.0)\n",
      "Requirement already satisfied: torchvision>=0.9.0 in /home/codespace/.local/lib/python3.10/site-packages (from ultralytics->-r requirements.txt (line 1)) (0.16.0)\n",
      "Requirement already satisfied: tqdm>=4.64.0 in /home/codespace/.local/lib/python3.10/site-packages (from ultralytics->-r requirements.txt (line 1)) (4.66.1)\n",
      "Requirement already satisfied: pandas>=1.1.4 in /home/codespace/.local/lib/python3.10/site-packages (from ultralytics->-r requirements.txt (line 1)) (2.1.1)\n",
      "Requirement already satisfied: seaborn>=0.11.0 in /home/codespace/.local/lib/python3.10/site-packages (from ultralytics->-r requirements.txt (line 1)) (0.13.0)\n",
      "Requirement already satisfied: psutil in /home/codespace/.local/lib/python3.10/site-packages (from ultralytics->-r requirements.txt (line 1)) (5.9.6)\n",
      "Requirement already satisfied: py-cpuinfo in /home/codespace/.local/lib/python3.10/site-packages (from ultralytics->-r requirements.txt (line 1)) (9.0.0)\n",
      "Requirement already satisfied: thop>=0.1.1 in /home/codespace/.local/lib/python3.10/site-packages (from ultralytics->-r requirements.txt (line 1)) (0.1.1.post2209072238)\n",
      "Requirement already satisfied: certifi==2023.7.22 in /home/codespace/.local/lib/python3.10/site-packages (from roboflow->-r requirements.txt (line 2)) (2023.7.22)\n",
      "Requirement already satisfied: chardet==4.0.0 in /usr/local/python/3.10.8/lib/python3.10/site-packages (from roboflow->-r requirements.txt (line 2)) (4.0.0)\n",
      "Requirement already satisfied: cycler==0.10.0 in /usr/local/python/3.10.8/lib/python3.10/site-packages (from roboflow->-r requirements.txt (line 2)) (0.10.0)\n",
      "Requirement already satisfied: idna==2.10 in /usr/local/python/3.10.8/lib/python3.10/site-packages (from roboflow->-r requirements.txt (line 2)) (2.10)\n",
      "Requirement already satisfied: kiwisolver>=1.3.1 in /home/codespace/.local/lib/python3.10/site-packages (from roboflow->-r requirements.txt (line 2)) (1.4.5)\n",
      "Requirement already satisfied: opencv-python-headless==4.8.0.74 in /usr/local/python/3.10.8/lib/python3.10/site-packages (from roboflow->-r requirements.txt (line 2)) (4.8.0.74)\n",
      "Requirement already satisfied: pyparsing==2.4.7 in /usr/local/python/3.10.8/lib/python3.10/site-packages (from roboflow->-r requirements.txt (line 2)) (2.4.7)\n",
      "Requirement already satisfied: python-dateutil in /home/codespace/.local/lib/python3.10/site-packages (from roboflow->-r requirements.txt (line 2)) (2.8.2)\n",
      "Requirement already satisfied: python-dotenv in /usr/local/python/3.10.8/lib/python3.10/site-packages (from roboflow->-r requirements.txt (line 2)) (1.0.0)\n",
      "Requirement already satisfied: six in /home/codespace/.local/lib/python3.10/site-packages (from roboflow->-r requirements.txt (line 2)) (1.16.0)\n",
      "Requirement already satisfied: supervision in /usr/local/python/3.10.8/lib/python3.10/site-packages (from roboflow->-r requirements.txt (line 2)) (0.16.0)\n",
      "Requirement already satisfied: urllib3>=1.26.6 in /home/codespace/.local/lib/python3.10/site-packages (from roboflow->-r requirements.txt (line 2)) (2.0.7)\n",
      "Requirement already satisfied: requests-toolbelt in /usr/local/python/3.10.8/lib/python3.10/site-packages (from roboflow->-r requirements.txt (line 2)) (1.0.0)\n",
      "Requirement already satisfied: python-magic in /usr/local/python/3.10.8/lib/python3.10/site-packages (from roboflow->-r requirements.txt (line 2)) (0.4.27)\n",
      "Requirement already satisfied: contourpy>=1.0.1 in /home/codespace/.local/lib/python3.10/site-packages (from matplotlib>=3.3.0->ultralytics->-r requirements.txt (line 1)) (1.1.1)\n",
      "Requirement already satisfied: fonttools>=4.22.0 in /home/codespace/.local/lib/python3.10/site-packages (from matplotlib>=3.3.0->ultralytics->-r requirements.txt (line 1)) (4.43.1)\n",
      "Requirement already satisfied: packaging>=20.0 in /home/codespace/.local/lib/python3.10/site-packages (from matplotlib>=3.3.0->ultralytics->-r requirements.txt (line 1)) (23.2)\n",
      "Requirement already satisfied: pytz>=2020.1 in /home/codespace/.local/lib/python3.10/site-packages (from pandas>=1.1.4->ultralytics->-r requirements.txt (line 1)) (2023.3.post1)\n",
      "Requirement already satisfied: tzdata>=2022.1 in /home/codespace/.local/lib/python3.10/site-packages (from pandas>=1.1.4->ultralytics->-r requirements.txt (line 1)) (2023.3)\n",
      "Requirement already satisfied: charset-normalizer<4,>=2 in /home/codespace/.local/lib/python3.10/site-packages (from requests>=2.23.0->ultralytics->-r requirements.txt (line 1)) (3.3.0)\n",
      "Requirement already satisfied: filelock in /home/codespace/.local/lib/python3.10/site-packages (from torch>=1.8.0->ultralytics->-r requirements.txt (line 1)) (3.12.4)\n",
      "Requirement already satisfied: typing-extensions in /home/codespace/.local/lib/python3.10/site-packages (from torch>=1.8.0->ultralytics->-r requirements.txt (line 1)) (4.8.0)\n",
      "Requirement already satisfied: sympy in /home/codespace/.local/lib/python3.10/site-packages (from torch>=1.8.0->ultralytics->-r requirements.txt (line 1)) (1.12)\n",
      "Requirement already satisfied: networkx in /home/codespace/.local/lib/python3.10/site-packages (from torch>=1.8.0->ultralytics->-r requirements.txt (line 1)) (3.1)\n",
      "Requirement already satisfied: jinja2 in /home/codespace/.local/lib/python3.10/site-packages (from torch>=1.8.0->ultralytics->-r requirements.txt (line 1)) (3.1.2)\n",
      "Requirement already satisfied: fsspec in /home/codespace/.local/lib/python3.10/site-packages (from torch>=1.8.0->ultralytics->-r requirements.txt (line 1)) (2023.10.0)\n",
      "Requirement already satisfied: nvidia-cuda-nvrtc-cu12==12.1.105 in /home/codespace/.local/lib/python3.10/site-packages (from torch>=1.8.0->ultralytics->-r requirements.txt (line 1)) (12.1.105)\n",
      "Requirement already satisfied: nvidia-cuda-runtime-cu12==12.1.105 in /home/codespace/.local/lib/python3.10/site-packages (from torch>=1.8.0->ultralytics->-r requirements.txt (line 1)) (12.1.105)\n",
      "Requirement already satisfied: nvidia-cuda-cupti-cu12==12.1.105 in /home/codespace/.local/lib/python3.10/site-packages (from torch>=1.8.0->ultralytics->-r requirements.txt (line 1)) (12.1.105)\n",
      "Requirement already satisfied: nvidia-cudnn-cu12==8.9.2.26 in /home/codespace/.local/lib/python3.10/site-packages (from torch>=1.8.0->ultralytics->-r requirements.txt (line 1)) (8.9.2.26)\n",
      "Requirement already satisfied: nvidia-cublas-cu12==12.1.3.1 in /home/codespace/.local/lib/python3.10/site-packages (from torch>=1.8.0->ultralytics->-r requirements.txt (line 1)) (12.1.3.1)\n",
      "Requirement already satisfied: nvidia-cufft-cu12==11.0.2.54 in /home/codespace/.local/lib/python3.10/site-packages (from torch>=1.8.0->ultralytics->-r requirements.txt (line 1)) (11.0.2.54)\n",
      "Requirement already satisfied: nvidia-curand-cu12==10.3.2.106 in /home/codespace/.local/lib/python3.10/site-packages (from torch>=1.8.0->ultralytics->-r requirements.txt (line 1)) (10.3.2.106)\n",
      "Requirement already satisfied: nvidia-cusolver-cu12==11.4.5.107 in /home/codespace/.local/lib/python3.10/site-packages (from torch>=1.8.0->ultralytics->-r requirements.txt (line 1)) (11.4.5.107)\n",
      "Requirement already satisfied: nvidia-cusparse-cu12==12.1.0.106 in /home/codespace/.local/lib/python3.10/site-packages (from torch>=1.8.0->ultralytics->-r requirements.txt (line 1)) (12.1.0.106)\n",
      "Requirement already satisfied: nvidia-nccl-cu12==2.18.1 in /home/codespace/.local/lib/python3.10/site-packages (from torch>=1.8.0->ultralytics->-r requirements.txt (line 1)) (2.18.1)\n",
      "Requirement already satisfied: nvidia-nvtx-cu12==12.1.105 in /home/codespace/.local/lib/python3.10/site-packages (from torch>=1.8.0->ultralytics->-r requirements.txt (line 1)) (12.1.105)\n",
      "Requirement already satisfied: triton==2.1.0 in /home/codespace/.local/lib/python3.10/site-packages (from torch>=1.8.0->ultralytics->-r requirements.txt (line 1)) (2.1.0)\n",
      "Requirement already satisfied: nvidia-nvjitlink-cu12 in /home/codespace/.local/lib/python3.10/site-packages (from nvidia-cusolver-cu12==11.4.5.107->torch>=1.8.0->ultralytics->-r requirements.txt (line 1)) (12.2.140)\n",
      "Requirement already satisfied: MarkupSafe>=2.0 in /home/codespace/.local/lib/python3.10/site-packages (from jinja2->torch>=1.8.0->ultralytics->-r requirements.txt (line 1)) (2.1.3)\n",
      "Requirement already satisfied: mpmath>=0.19 in /home/codespace/.local/lib/python3.10/site-packages (from sympy->torch>=1.8.0->ultralytics->-r requirements.txt (line 1)) (1.3.0)\n",
      "\n",
      "\u001b[1m[\u001b[0m\u001b[34;49mnotice\u001b[0m\u001b[1;39;49m]\u001b[0m\u001b[39;49m A new release of pip is available: \u001b[0m\u001b[31;49m23.3\u001b[0m\u001b[39;49m -> \u001b[0m\u001b[32;49m23.3.1\u001b[0m\n",
      "\u001b[1m[\u001b[0m\u001b[34;49mnotice\u001b[0m\u001b[1;39;49m]\u001b[0m\u001b[39;49m To update, run: \u001b[0m\u001b[32;49mpython -m pip install --upgrade pip\u001b[0m\n"
     ]
    }
   ],
   "source": [
    "! pip install -r requirements.txt"
   ]
  }
 ],
 "metadata": {
  "kernelspec": {
   "display_name": "Python 3",
   "language": "python",
   "name": "python3"
  },
  "language_info": {
   "codemirror_mode": {
    "name": "ipython",
    "version": 3
   },
   "file_extension": ".py",
   "mimetype": "text/x-python",
   "name": "python",
   "nbconvert_exporter": "python",
   "pygments_lexer": "ipython3",
   "version": "3.10.8"
  }
 },
 "nbformat": 4,
 "nbformat_minor": 2
}
