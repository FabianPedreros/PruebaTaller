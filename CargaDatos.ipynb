!pip install roboflow

from roboflow import Roboflow
rf = Roboflow(api_key="i8OsUHjibnul9EAP5XdN")
project = rf.workspace("clasificacion-09rlh").project("deteccionplantatomate")
dataset = project.version(1).download("yolov8")
